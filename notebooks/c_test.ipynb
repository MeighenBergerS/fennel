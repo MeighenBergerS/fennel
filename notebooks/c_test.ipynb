{
 "cells": [
  {
   "cell_type": "code",
   "execution_count": 34,
   "metadata": {},
   "outputs": [],
   "source": [
    "import inspect\n",
    "import sys\n",
    "from fennel import config\n",
    "from subprocess import Popen, PIPE\n",
    "import pickle\n",
    "\n",
    "sys.path.append(\"../\")"
   ]
  },
  {
   "cell_type": "code",
   "execution_count": 35,
   "metadata": {},
   "outputs": [],
   "source": [
    "fname = '../fennel/generated.pyx'"
   ]
  },
  {
   "cell_type": "code",
   "execution_count": 37,
   "metadata": {},
   "outputs": [],
   "source": [
    "to_store = {}\n",
    "to_store[\"track\"] = config[\"track\"]\n",
    "to_store[\"em cascade\"] = config[\"em cascade\"]\n",
    "to_store[\"hadron cascade\"] = config[\"hadron cascade\"]\n",
    "pickle.dump(to_store, open(\"../fennel/data/aachen.pkl\", \"wb\" ))"
   ]
  },
  {
   "cell_type": "code",
   "execution_count": 29,
   "metadata": {},
   "outputs": [],
   "source": [
    "def hello_world():\n",
    "    \"\"\" A simple hello world function\n",
    "    \"\"\"\n",
    "    print(\"Hello World!\")"
   ]
  },
  {
   "cell_type": "code",
   "execution_count": 30,
   "metadata": {},
   "outputs": [],
   "source": [
    "test_func = hello_world"
   ]
  },
  {
   "cell_type": "code",
   "execution_count": 31,
   "metadata": {},
   "outputs": [],
   "source": [
    "with open(fname, 'w') as f:\n",
    "    f.write(inspect.getsource(test_func))\n",
    "    f.write(\"hello_world()\")"
   ]
  },
  {
   "cell_type": "code",
   "execution_count": 26,
   "metadata": {},
   "outputs": [
    {
     "name": "stdout",
     "output_type": "stream",
     "text": [
      "Compiling generated.pyx because it changed.\n",
      "[1/1] Cythonizing generated.pyx\n",
      "running build_ext\n",
      "building 'helloworld' extension\n",
      "creating build\n",
      "creating build\\temp.win-amd64-3.9\n",
      "creating build\\temp.win-amd64-3.9\\Release\n",
      "cl.exe /c /nologo /Ox /W3 /GL /DNDEBUG /MD -IC:\\Users\\steph\\Anaconda3\\envs\\fennel\\include -IC:\\Users\\steph\\Anaconda3\\envs\\fennel\\include -IC:\\Program Files (x86)\\Microsoft Visual Studio\\2019\\Community\\VC\\Tools\\MSVC\\14.29.30133\\ATLMFC\\include -IC:\\Program Files (x86)\\Microsoft Visual Studio\\2019\\Community\\VC\\Tools\\MSVC\\14.29.30133\\include -IC:\\Program Files (x86)\\Windows Kits\\10\\include\\10.0.19041.0\\ucrt -IC:\\Program Files (x86)\\Windows Kits\\10\\include\\10.0.19041.0\\shared -IC:\\Program Files (x86)\\Windows Kits\\10\\include\\10.0.19041.0\\um -IC:\\Program Files (x86)\\Windows Kits\\10\\include\\10.0.19041.0\\winrt -IC:\\Program Files (x86)\\Windows Kits\\10\\include\\10.0.19041.0\\cppwinrt /Tcgenerated.c /Fobuild\\temp.win-amd64-3.9\\Release\\generated.obj\n"
     ]
    }
   ],
   "source": [
    "with Popen(\n",
    "    \"python ../fennel/setup_c.py build_ext --inplace\",\n",
    "    stdout=PIPE, bufsize=1,\n",
    "    universal_newlines=True,\n",
    "    cwd=\"../fennel/\") as p:\n",
    "        for line in p.stdout:\n",
    "            print(line, end='')"
   ]
  },
  {
   "cell_type": "code",
   "execution_count": null,
   "metadata": {},
   "outputs": [],
   "source": []
  }
 ],
 "metadata": {
  "interpreter": {
   "hash": "3160725d1d61d45cca068d2356fa5675a0e8b5d3c469c0330a5c4b00bc5bc4d0"
  },
  "kernelspec": {
   "display_name": "Python 3.9.7 64-bit ('fennel': conda)",
   "language": "python",
   "name": "python3"
  },
  "language_info": {
   "codemirror_mode": {
    "name": "ipython",
    "version": 3
   },
   "file_extension": ".py",
   "mimetype": "text/x-python",
   "name": "python",
   "nbconvert_exporter": "python",
   "pygments_lexer": "ipython3",
   "version": "3.9.7"
  },
  "orig_nbformat": 4
 },
 "nbformat": 4,
 "nbformat_minor": 2
}
